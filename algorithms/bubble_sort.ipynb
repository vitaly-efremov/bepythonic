{
 "cells": [
  {
   "cell_type": "markdown",
   "metadata": {},
   "source": [
    "# Bubble Sort \n",
    "\n",
    "**Bubble sort** is a simple sorting algorithm that repeatedly steps through the list to be sorted, compares each pair of adjacent items and swaps them if they are in the wrong order [[1]](https://en.wikipedia.org/wiki/Bubble_sort).\n",
    "\n",
    "![Alt Text](https://upload.wikimedia.org/wikipedia/commons/c/c8/Bubble-sort-example-300px.gif)"
   ]
  },
  {
   "cell_type": "markdown",
   "metadata": {},
   "source": [
    "**Worst-case performance**: O($n^2$)\n",
    "\n",
    "**Best-case performance**: O(n)\n",
    "\n",
    "**Average performance**: O($n^2$)\n",
    "\n",
    "**Worst-case space complexity**: O(1) auxiliary\n"
   ]
  },
  {
   "cell_type": "code",
   "execution_count": 2,
   "metadata": {},
   "outputs": [],
   "source": [
    "def bubble_sort(array):\n",
    "    while True:\n",
    "        is_sorted = True\n",
    "        for i in range(1, len(array)):\n",
    "            if array[i] < array[i-1]:\n",
    "                array[i], array[i-1] = array[i-1], array[i]\n",
    "                is_sorted = False\n",
    "        if is_sorted:\n",
    "            return array"
   ]
  },
  {
   "cell_type": "code",
   "execution_count": 4,
   "metadata": {},
   "outputs": [
    {
     "name": "stdout",
     "output_type": "stream",
     "text": [
      "Ordered list: [0, 1, 2, 3, 5, 7, 8, 9]\n"
     ]
    }
   ],
   "source": [
    "unordered_list = [2, 3, 1, 5, 0, 8, 9, 7]\n",
    "print('Ordered list:', bubble_sort(unordered_list))"
   ]
  }
 ],
 "metadata": {
  "kernelspec": {
   "display_name": "Python 3",
   "language": "python",
   "name": "python3"
  },
  "language_info": {
   "codemirror_mode": {
    "name": "ipython",
    "version": 3
   },
   "file_extension": ".py",
   "mimetype": "text/x-python",
   "name": "python",
   "nbconvert_exporter": "python",
   "pygments_lexer": "ipython3",
   "version": "3.6.3"
  }
 },
 "nbformat": 4,
 "nbformat_minor": 2
}

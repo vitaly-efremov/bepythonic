{
 "cells": [
  {
   "cell_type": "markdown",
   "metadata": {},
   "source": [
    "## 1. Power of `or`"
   ]
  },
  {
   "cell_type": "markdown",
   "metadata": {},
   "source": [
    "#### 1.1. Strings"
   ]
  },
  {
   "cell_type": "code",
   "execution_count": 3,
   "metadata": {},
   "outputs": [
    {
     "name": "stdout",
     "output_type": "stream",
     "text": [
      "Test variants:\n",
      "\"Ivan, Ivanov\" -> Ivan\n",
      "\"Ivan, None\" -> Ivan\n",
      "\"None, Ivanov\" -> Ivanov\n",
      "\"Ivan, \" -> Ivan\n",
      "\", Ivanov\" -> Ivanov\n",
      "\"None, None\" -> None\n",
      "\", \" -> \n"
     ]
    }
   ],
   "source": [
    "def not_pythonic(name, surname):\n",
    "    if name:\n",
    "        username = name\n",
    "    else:\n",
    "        username = surname\n",
    "\n",
    "    return username\n",
    "\n",
    "\n",
    "def better(name, surname):\n",
    "    if name:\n",
    "        return name\n",
    "\n",
    "    return surname\n",
    "\n",
    "\n",
    "def pythonic(name, surname):\n",
    "    username = name or surname\n",
    "    return username\n",
    "\n",
    "print('Test variants:')\n",
    "test_cases = (\n",
    "    ('Ivan', 'Ivanov'),\n",
    "    ('Ivan', None),\n",
    "    (None, 'Ivanov'),\n",
    "    ('Ivan', ''),\n",
    "    ('', 'Ivanov'),\n",
    "    (None, None),\n",
    "    ('', ''),\n",
    ")\n",
    "\n",
    "for name, surname in test_cases:\n",
    "    print(f'\"{name}, {surname}\" -> {pythonic(name, surname)}')\n",
    "\n"
   ]
  },
  {
   "cell_type": "markdown",
   "metadata": {},
   "source": [
    "#### 1.2. Collections"
   ]
  },
  {
   "cell_type": "code",
   "execution_count": 9,
   "metadata": {},
   "outputs": [
    {
     "name": "stdout",
     "output_type": "stream",
     "text": [
      "Test variants:\n",
      "\"[1, 2, 3], [4, 5]\" -> [1, 4, 9]\n",
      "\"[1, 2, 3], None\" -> [1, 4, 9]\n",
      "\"None, [4, 5]\" -> [16, 25]\n"
     ]
    }
   ],
   "source": [
    "def not_pythonic(source1, source2):\n",
    "    if source1:\n",
    "        return (element**2 for element in source1)\n",
    "    \n",
    "    return (element**2 for element in source2)\n",
    "\n",
    "\n",
    "def better(source1, source2):\n",
    "    source = source1 if source1 else source2\n",
    "\n",
    "    for element in source:\n",
    "        yield element**2\n",
    "\n",
    "\n",
    "def pythonic(source1, source2):\n",
    "    \"\"\"\n",
    "     \"Or\" evaluates source1, if source1 is truthy, so the or statement is true,\n",
    "     so it returns the last evaluated value, source1, otherwise source2\n",
    "     \"\"\"\n",
    "    for element in source1 or source2:\n",
    "        yield element**2\n",
    "\n",
    "\n",
    "\n",
    "print('Test variants:')\n",
    "test_cases = (\n",
    "    ([1, 2, 3], [4, 5]),\n",
    "    ([1, 2, 3], None),\n",
    "    (None, [4, 5]),\n",
    ")\n",
    "\n",
    "for source1, source2 in test_cases:\n",
    "    print(f'\"{source1}, {source2}\" -> {list(pythonic(source1, source2))}')"
   ]
  },
  {
   "cell_type": "markdown",
   "metadata": {},
   "source": [
    "## 2. Power of `and`"
   ]
  },
  {
   "cell_type": "code",
   "execution_count": 18,
   "metadata": {},
   "outputs": [
    {
     "name": "stdout",
     "output_type": "stream",
     "text": [
      "Test variants:\n",
      "\"[1, 2, 3], [4, 5]\" -> [4, 5]\n",
      "\"[1, 2, 3], []\" -> []\n",
      "\"[], [4, 5]\" -> []\n"
     ]
    }
   ],
   "source": [
    "def not_pythonic(source1, source2):\n",
    "    if source1 and source2:\n",
    "        return source2\n",
    "    \n",
    "    return []\n",
    "\n",
    "\n",
    "def pythonic(source1, source2):\n",
    "    \"\"\"\n",
    "    The it evaluates source1, if source1 is truthy, it evaluates source2, \n",
    "    and if source1 is truthy, then it returns the last evaluated value\n",
    "    \"\"\"\n",
    "    return source1 and source2\n",
    "\n",
    "\n",
    "\n",
    "print('Test variants:')\n",
    "test_cases = (\n",
    "    ([1, 2, 3], [4, 5]),\n",
    "    ([1, 2, 3], []),\n",
    "    ([], [4, 5]),\n",
    ")\n",
    "\n",
    "for source1, source2 in test_cases:\n",
    "    print(f'\"{source1}, {source2}\" -> {list(pythonic(source1, source2))}')"
   ]
  },
  {
   "cell_type": "markdown",
   "metadata": {},
   "source": [
    "## 3. Dark side of `and`"
   ]
  },
  {
   "cell_type": "code",
   "execution_count": 19,
   "metadata": {},
   "outputs": [
    {
     "ename": "TypeError",
     "evalue": "argument of type 'NoneType' is not iterable",
     "output_type": "error",
     "traceback": [
      "\u001b[0;31m---------------------------------------------------------------------------\u001b[0m",
      "\u001b[0;31mTypeError\u001b[0m                                 Traceback (most recent call last)",
      "\u001b[0;32m<ipython-input-19-258819e76a91>\u001b[0m in \u001b[0;36m<module>\u001b[0;34m()\u001b[0m\n\u001b[1;32m      2\u001b[0m     \u001b[0;32mreturn\u001b[0m \u001b[0msource1\u001b[0m \u001b[0;32mand\u001b[0m \u001b[0msource2\u001b[0m\u001b[0;34m\u001b[0m\u001b[0m\n\u001b[1;32m      3\u001b[0m \u001b[0;34m\u001b[0m\u001b[0m\n\u001b[0;32m----> 4\u001b[0;31m \u001b[0;36m1\u001b[0m \u001b[0;32min\u001b[0m \u001b[0mpythonic\u001b[0m\u001b[0;34m(\u001b[0m\u001b[0;34m[\u001b[0m\u001b[0;36m1\u001b[0m\u001b[0;34m,\u001b[0m \u001b[0;36m2\u001b[0m\u001b[0;34m]\u001b[0m\u001b[0;34m,\u001b[0m \u001b[0;32mNone\u001b[0m\u001b[0;34m)\u001b[0m\u001b[0;34m\u001b[0m\u001b[0m\n\u001b[0m",
      "\u001b[0;31mTypeError\u001b[0m: argument of type 'NoneType' is not iterable"
     ]
    }
   ],
   "source": [
    "def pythonic(source1, source2):\n",
    "    return source1 and source2\n",
    "\n",
    "1 in pythonic([1, 2], None)"
   ]
  }
 ],
 "metadata": {
  "kernelspec": {
   "display_name": "Python 3",
   "language": "python",
   "name": "python3"
  },
  "language_info": {
   "codemirror_mode": {
    "name": "ipython",
    "version": 3
   },
   "file_extension": ".py",
   "mimetype": "text/x-python",
   "name": "python",
   "nbconvert_exporter": "python",
   "pygments_lexer": "ipython3",
   "version": "3.6.3"
  }
 },
 "nbformat": 4,
 "nbformat_minor": 2
}

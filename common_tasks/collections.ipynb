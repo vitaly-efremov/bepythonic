{
 "cells": [
  {
   "cell_type": "markdown",
   "metadata": {},
   "source": [
    "### 1. ABS sorting\n",
    "\n",
    "Sort collection elements by absolute values"
   ]
  },
  {
   "cell_type": "code",
   "execution_count": 7,
   "metadata": {},
   "outputs": [
    {
     "name": "stdout",
     "output_type": "stream",
     "text": [
      "Test variants:\n",
      "\"[-20, -5, 10, 15]\" -> [-5, 10, 15, -20]\n",
      "\"[1, 2, 3, 0]\" -> [0, 1, 2, 3]\n",
      "\"[-1, -2, -3, 0]\" -> [0, -1, -2, -3]\n"
     ]
    }
   ],
   "source": [
    "def pythonic(array):\n",
    "    return sorted(array, key=abs)\n",
    "\n",
    "def not_pythonic(array):\n",
    "    while True:\n",
    "        is_sorted = True\n",
    "        for i in range(1, len(array)):\n",
    "            if abs(array[i]) < abs(array[i-1]):\n",
    "                array[i], array[i-1] = array[i-1], array[i]\n",
    "                is_sorted = False\n",
    "        if is_sorted:\n",
    "            return array\n",
    "\n",
    "\n",
    "print('Test variants:')\n",
    "for text in ([-20, -5, 10, 15], [1, 2, 3, 0], [-1, -2, -3, 0]):\n",
    "    print('\"%s\" -> %s' % (text, pythonic(text)))"
   ]
  },
  {
   "cell_type": "markdown",
   "metadata": {},
   "source": [
    "### 2. Evens * the last\n",
    "\n",
    "Sum all even elements and multiply with the last element"
   ]
  },
  {
   "cell_type": "code",
   "execution_count": 14,
   "metadata": {},
   "outputs": [
    {
     "name": "stdout",
     "output_type": "stream",
     "text": [
      "Test variants:\n",
      "\"[0, 1, 2, 3, 4, 5]\" -> 30\n",
      "\"[1, 3, 5]\" -> 30\n",
      "\"[6]\" -> 36\n",
      "\"[]\" -> 0\n"
     ]
    }
   ],
   "source": [
    "def pythonic(array):\n",
    "    return sum(array[::2]) * array[-1] if array else 0\n",
    "\n",
    "\n",
    "def not_pythonic(array):\n",
    "    even_sum = 0\n",
    "    n = len(array)\n",
    "\n",
    "    if n == 0:\n",
    "        return 0\n",
    "    \n",
    "    for i in range(n):\n",
    "        if i % 2 == 0:\n",
    "            even_sum += array[i]\n",
    "            \n",
    "    return even_sum * array[n-1]\n",
    "\n",
    "\n",
    "print('Test variants:')\n",
    "for text in ([0, 1, 2, 3, 4, 5], [1, 3, 5], [6], []):\n",
    "    print('\"%s\" -> %s' % (text, pythonic(text)))"
   ]
  }
 ],
 "metadata": {
  "kernelspec": {
   "display_name": "Python 3",
   "language": "python",
   "name": "python3"
  },
  "language_info": {
   "codemirror_mode": {
    "name": "ipython",
    "version": 3
   },
   "file_extension": ".py",
   "mimetype": "text/x-python",
   "name": "python",
   "nbconvert_exporter": "python",
   "pygments_lexer": "ipython3",
   "version": "3.6.3"
  }
 },
 "nbformat": 4,
 "nbformat_minor": 2
}

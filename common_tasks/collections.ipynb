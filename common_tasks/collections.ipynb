{
 "cells": [
  {
   "cell_type": "markdown",
   "metadata": {},
   "source": [
    "### 1. ABS sorting\n",
    "\n",
    "Sort collection elements by absolute values"
   ]
  },
  {
   "cell_type": "code",
   "execution_count": 7,
   "metadata": {},
   "outputs": [
    {
     "name": "stdout",
     "output_type": "stream",
     "text": [
      "Test variants:\n",
      "\"[-20, -5, 10, 15]\" -> [-5, 10, 15, -20]\n",
      "\"[1, 2, 3, 0]\" -> [0, 1, 2, 3]\n",
      "\"[-1, -2, -3, 0]\" -> [0, -1, -2, -3]\n"
     ]
    }
   ],
   "source": [
    "def pythonic(array):\n",
    "    return sorted(array, key=abs)\n",
    "\n",
    "def not_pythonic(array):\n",
    "    while True:\n",
    "        is_sorted = True\n",
    "        for i in range(1, len(array)):\n",
    "            if abs(array[i]) < abs(array[i-1]):\n",
    "                array[i], array[i-1] = array[i-1], array[i]\n",
    "                is_sorted = False\n",
    "        if is_sorted:\n",
    "            return array\n",
    "\n",
    "\n",
    "print('Test variants:')\n",
    "for text in ([-20, -5, 10, 15], [1, 2, 3, 0], [-1, -2, -3, 0]):\n",
    "    print('\"%s\" -> %s' % (text, pythonic(text)))"
   ]
  },
  {
   "cell_type": "markdown",
   "metadata": {},
   "source": [
    "### 2. Evens * the last\n",
    "\n",
    "Sum all even elements and multiply with the last element"
   ]
  },
  {
   "cell_type": "code",
   "execution_count": 14,
   "metadata": {},
   "outputs": [
    {
     "name": "stdout",
     "output_type": "stream",
     "text": [
      "Test variants:\n",
      "\"[0, 1, 2, 3, 4, 5]\" -> 30\n",
      "\"[1, 3, 5]\" -> 30\n",
      "\"[6]\" -> 36\n",
      "\"[]\" -> 0\n"
     ]
    }
   ],
   "source": [
    "def pythonic(array):\n",
    "    return sum(array[::2]) * array[-1] if array else 0\n",
    "\n",
    "\n",
    "def not_pythonic(array):\n",
    "    even_sum = 0\n",
    "    n = len(array)\n",
    "\n",
    "    if n == 0:\n",
    "        return 0\n",
    "    \n",
    "    for i in range(n):\n",
    "        if i % 2 == 0:\n",
    "            even_sum += array[i]\n",
    "            \n",
    "    return even_sum * array[n-1]\n",
    "\n",
    "\n",
    "print('Test variants:')\n",
    "for text in ([0, 1, 2, 3, 4, 5], [1, 3, 5], [6], []):\n",
    "    print('\"%s\" -> %s' % (text, pythonic(text)))"
   ]
  },
  {
   "cell_type": "markdown",
   "metadata": {},
   "source": [
    "### 3. Iterate multiple collections"
   ]
  },
  {
   "cell_type": "code",
   "execution_count": 10,
   "metadata": {},
   "outputs": [
    {
     "name": "stdout",
     "output_type": "stream",
     "text": [
      "not_pythonic -> [1, 2, 3, 4, 5]\n",
      "pythonic -> [1, 2, 3, 4, 5]\n"
     ]
    }
   ],
   "source": [
    "import itertools\n",
    "\n",
    "def not_pythonic(*arrays):\n",
    "    for array in arrays:\n",
    "        for element in array:\n",
    "            yield element\n",
    "\n",
    "            \n",
    "def pythonic(*arrays):\n",
    "    return itertools.chain(*arrays)\n",
    "\n",
    "print(f'not_pythonic -> {list(not_pythonic([1, 2], [3, 4], [5]))}')\n",
    "print(f'pythonic -> {list(pythonic([1, 2], [3, 4], [5]))}')"
   ]
  },
  {
   "cell_type": "markdown",
   "metadata": {},
   "source": [
    "### 4. Search in multiple collections"
   ]
  },
  {
   "cell_type": "code",
   "execution_count": 16,
   "metadata": {},
   "outputs": [
    {
     "ename": "TypeError",
     "evalue": "'bool' object is not iterable",
     "output_type": "error",
     "traceback": [
      "\u001b[0;31m---------------------------------------------------------------------------\u001b[0m",
      "\u001b[0;31mTypeError\u001b[0m                                 Traceback (most recent call last)",
      "\u001b[0;32m<ipython-input-16-48171cde7470>\u001b[0m in \u001b[0;36m<module>\u001b[0;34m()\u001b[0m\n\u001b[1;32m     23\u001b[0m \u001b[0;34m\u001b[0m\u001b[0m\n\u001b[1;32m     24\u001b[0m \u001b[0;34m\u001b[0m\u001b[0m\n\u001b[0;32m---> 25\u001b[0;31m \u001b[0mprint\u001b[0m\u001b[0;34m(\u001b[0m\u001b[0;34mf'{list(not_pythonic(4, [1, 2], [3, 4], [5]))}'\u001b[0m\u001b[0;34m)\u001b[0m\u001b[0;34m\u001b[0m\u001b[0m\n\u001b[0m",
      "\u001b[0;31mTypeError\u001b[0m: 'bool' object is not iterable"
     ]
    }
   ],
   "source": [
    "import itertools\n",
    "\n",
    "def not_pythonic(element, *arrays):\n",
    "    for array in arrays:\n",
    "        for array_element in array:\n",
    "            if element == array_element:\n",
    "                return True\n",
    "\n",
    "    return False\n",
    "\n",
    "def better1(element, *arrays):\n",
    "    return any(element in array for array in arrays)\n",
    "\n",
    "\n",
    "def better2(element, *arrays):\n",
    "    elements = (array_element for array in arrays\n",
    "                              for array_element in array)\n",
    "    return element in ellements\n",
    "            \n",
    "    \n",
    "def pythonic(element, *arrays):\n",
    "    return element in itertools.chain(*arrays)\n",
    "\n",
    "\n",
    "print(f'not_pythonic -> {not_pythonic(4, [1, 2], [3, 4], [5])}')"
   ]
  }
 ],
 "metadata": {
  "kernelspec": {
   "display_name": "Python 3",
   "language": "python",
   "name": "python3"
  },
  "language_info": {
   "codemirror_mode": {
    "name": "ipython",
    "version": 3
   },
   "file_extension": ".py",
   "mimetype": "text/x-python",
   "name": "python",
   "nbconvert_exporter": "python",
   "pygments_lexer": "ipython3",
   "version": "3.6.3"
  }
 },
 "nbformat": 4,
 "nbformat_minor": 2
}

{
 "cells": [
  {
   "cell_type": "markdown",
   "metadata": {},
   "source": [
    "### 1. Three words in row\n",
    "\n",
    "Check if text contains 3 words in row"
   ]
  },
  {
   "cell_type": "code",
   "execution_count": 25,
   "metadata": {},
   "outputs": [
    {
     "name": "stdout",
     "output_type": "stream",
     "text": [
      "Test variants:\n",
      "\"Hello big hello\" -> True\n",
      "\"There are 2 men\" -> False\n"
     ]
    }
   ],
   "source": [
    "def pythonic(text):\n",
    "    return \"www\" in \"\".join('w' if w.isalpha() else 'd' for w in text.split())\n",
    "\n",
    "def less_pythonic(text):\n",
    "    tokens = text.split()\n",
    "    n = len(tokens)\n",
    "    return any(1 for i in range(n) if n >= i+3\n",
    "               if all(not t.isnumeric() for t in tokens[i:i+3]))\n",
    "\n",
    "def not_pythonic(text):\n",
    "    tokens = text.split()\n",
    "    words_in_row_count = 0\n",
    "    \n",
    "    for token in tokens:\n",
    "        if token.isalpha():\n",
    "            words_in_row_count += 1\n",
    "            if words_in_row_count >= 3:\n",
    "                return True\n",
    "        else:\n",
    "            words_in_row_count = 0\n",
    "    \n",
    "    return False\n",
    "\n",
    "print('Test variants:')\n",
    "for text in ('Hello big hello', 'There are 2 men'):\n",
    "    print('\"%s\" -> %s' % (text, pythonic(text)))\n"
   ]
  },
  {
   "cell_type": "markdown",
   "metadata": {},
   "source": [
    "### 2. Digits multiplication\n",
    "\n",
    "Multiply all number digits excluding 0"
   ]
  },
  {
   "cell_type": "code",
   "execution_count": 24,
   "metadata": {},
   "outputs": [
    {
     "name": "stdout",
     "output_type": "stream",
     "text": [
      "Test variants:\n",
      "\"123405\" -> 120\n",
      "\"999\" -> 729\n",
      "\"1000\" -> 1\n"
     ]
    }
   ],
   "source": [
    "def pythonic(x):\n",
    "    import operator\n",
    "    from functools import reduce\n",
    "\n",
    "    number_str = str(x).replace('0', '')\n",
    "    return reduce(operator.mul, map(int, number_str))\n",
    "\n",
    "def not_pythonic(x):\n",
    "    number_str = str(x)\n",
    "    \n",
    "    result = 1\n",
    "    for x in list(number_str):\n",
    "        if x != '0':\n",
    "            result *= int(x)\n",
    "        \n",
    "    return result\n",
    "\n",
    "print('Test variants:')\n",
    "for text in (123405, 999, 1000):\n",
    "    print('\"%s\" -> %s' % (text, not_pythonic(text)))"
   ]
  }
 ],
 "metadata": {
  "kernelspec": {
   "display_name": "Python 3",
   "language": "python",
   "name": "python3"
  },
  "language_info": {
   "codemirror_mode": {
    "name": "ipython",
    "version": 3
   },
   "file_extension": ".py",
   "mimetype": "text/x-python",
   "name": "python",
   "nbconvert_exporter": "python",
   "pygments_lexer": "ipython3",
   "version": "3.6.3"
  }
 },
 "nbformat": 4,
 "nbformat_minor": 2
}
